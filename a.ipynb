{
 "cells": [
  {
   "cell_type": "code",
   "execution_count": null,
   "metadata": {},
   "outputs": [],
   "source": [
    "import pandas as pd\n",
    "import numpy as np\n",
    "import os\n",
    "\n",
    "Delisted = pd.concat([pd.read_csv(\"Data/Delisted/\"+path) for path in os.listdir(\"Data/Delisted/\")], ignore_index=True)\n",
    "Listed = pd.concat([pd.read_csv(\"Data/Listed/\"+path) for path in os.listdir(\"Data/Listed/\")], ignore_index=True)\n",
    "Listing = pd.concat([pd.read_csv(\"Data/Listing/\"+path) for path in os.listdir(\"Data/Listing/\")], ignore_index=True)\n",
    "Delisted[\"Code\"] = [str(val) for val in Delisted[\"Code\"]]\n",
    "Listed[\"Code\"] = [str(val) for val in Listed[\"Code\"]]\n",
    "Listing[\"Code\"] = [str(val) for val in Listing[\"Code\"]]\n",
    "\n",
    "Delisted = Delisted[Delisted[\"Market Segment\"]!=\"ETFs\"].reset_index(drop=True)\n",
    "Listed = Listed[Listed[\"Market Segment\"]!=\"ETFs\"].reset_index(drop=True)\n",
    "Listing = Listing[Listing[\"Market Segment\"]!=\"ETFs\"].reset_index(drop=True)\n",
    "\n",
    "Delisted = Delisted[Delisted[\"Market Segment\"]!=\"ETNs\"].reset_index(drop=True)\n",
    "Listed = Listed[Listed[\"Market Segment\"]!=\"ETNs\"].reset_index(drop=True)\n",
    "Listing = Listing[Listing[\"Market Segment\"]!=\"ETNs\"].reset_index(drop=True)\n",
    "\n",
    "Listing.loc[Listing[\"Date of Listing\"].isna(), \"Date of Listing\"] = Listing[\"Date of Listing (Date of Listing Approval)\"][Listing[\"Date of Listing (Date of Listing Approval)\"].notna()]\n",
    "Listing.loc[Listing[\"Issue Name*2\"].isna(), \"Issue Name*2\"] = Listing[\"Issue Name*3\"][Listing[\"Issue Name*3\"].notna()]\n",
    "\n",
    "Listed.loc[Listed[\"Code\"]==\"45680\", \"Date of incorporation\"] = \"2005/09/28\"\n",
    "Listed.loc[Listed[\"Date of incorporation\"]==\"-\", \"Date of incorporation\"] = \"1800/01/01\"\n",
    "\n",
    "Listed[\"Date_of_incorporation\"] = pd.to_datetime(Listed[\"Date of incorporation\"]).dt.strftime(\"%Y-%m-%d\")\n",
    "\n",
    "def cut_string_dt(x):\n",
    "    if len(x) > 13: return x[:13]\n",
    "    return x\n",
    "\n",
    "Listing[\"Date of Listing\"] = Listing[\"Date of Listing\"].apply(cut_string_dt)\n",
    "Listing[\"Date of Listing\"] = pd.to_datetime(Listing[\"Date of Listing\"]).dt.strftime(\"%Y-%m-%d\")\n",
    "Delisted[\"Date\"] = pd.to_datetime(Delisted[\"Date\"]).dt.strftime(\"%Y\")"
   ]
  },
  {
   "cell_type": "code",
   "execution_count": null,
   "metadata": {},
   "outputs": [],
   "source": [
    "Listed.insert(0, \"Time\", 0)\n",
    "dict_temp = {}\n",
    "for year in range(2002, 2025):\n",
    "    temp = Listed[Listed[\"Date_of_incorporation\"]<=f\"{year}-12-31\"].copy()\n",
    "    temp[\"Time\"] = year\n",
    "    temp[\"Date of Listing\"] = pd.NA\n",
    "    temp.sort_values(\"Date_of_incorporation\", inplace=True)\n",
    "    temp.reset_index(drop=True, inplace=True)\n",
    "    dict_temp[year] = temp"
   ]
  },
  {
   "cell_type": "code",
   "execution_count": null,
   "metadata": {},
   "outputs": [],
   "source": [
    "for i in range(len(Listing)):\n",
    "    tmp_dict = Listing.loc[i].to_dict()\n",
    "    year = int(tmp_dict[\"Date of Listing\"][:4])\n",
    "    tmp_dict[\"Issue name\"] = tmp_dict[\"Issue Name*2\"]\n",
    "    tmp_dict[\"Code\"] = str(tmp_dict[\"Code\"])\n",
    "    if tmp_dict[\"Code\"] in dict_temp[year][\"Code\"].to_list():\n",
    "        print(i)\n",
    "        raise\n",
    "\n",
    "    for Y in range(year, 2025):\n",
    "        tmp_dict[\"Time\"] = Y\n",
    "        n = len(dict_temp[Y])\n",
    "        dict_temp[Y].loc[n] = {}\n",
    "        for col in dict_temp[Y].columns:\n",
    "            if col in list(tmp_dict.keys()):\n",
    "                dict_temp[Y].loc[n, col] = tmp_dict[col]"
   ]
  },
  {
   "cell_type": "code",
   "execution_count": null,
   "metadata": {},
   "outputs": [],
   "source": [
    "dict_delist = {year: [] for year in dict_temp.keys()}\n",
    "for i in range(len(Delisted)):\n",
    "    date = int(Delisted.loc[i, \"Date\"])\n",
    "    code = str(Delisted.loc[i, \"Code\"])\n",
    "    for year in range(date, 2025):\n",
    "        dict_delist[year].append(code)\n",
    "\n",
    "for year in dict_delist.keys():\n",
    "    start = len(dict_temp[year])\n",
    "    dict_temp[year] = dict_temp[year][~dict_temp[year][\"Code\"].isin(dict_delist[year])]\n",
    "    end = len(dict_temp[year])\n",
    "    print(year, start - end)"
   ]
  },
  {
   "cell_type": "code",
   "execution_count": null,
   "metadata": {},
   "outputs": [],
   "source": [
    "final_data = pd.concat(list(dict_temp.values()), ignore_index=True)\n",
    "final_data.to_csv(\"All_history_listed.csv\", index=False)"
   ]
  },
  {
   "cell_type": "markdown",
   "metadata": {},
   "source": [
    "# Xử lý file Listing 0 và Listing 1 sai định dạng cột"
   ]
  },
  {
   "cell_type": "code",
   "execution_count": null,
   "metadata": {},
   "outputs": [],
   "source": [
    "import pandas as pd\n",
    "\n",
    "# Đường dẫn tới file CSV\n",
    "file_path = 'Data/Listing/1.csv'\n",
    "\n",
    "# Đọc hai dòng đầu tiên để lấy headers\n",
    "with open(file_path, 'r') as file:\n",
    "    header_line1 = file.readline().strip().split(',')\n",
    "    header_line2 = file.readline().strip().split(',')\n",
    "\n",
    "# Kết hợp hai dòng header lại với nhau\n",
    "headers = header_line1 + header_line2\n",
    "headers.__len__()"
   ]
  },
  {
   "cell_type": "code",
   "execution_count": null,
   "metadata": {},
   "outputs": [],
   "source": [
    "data = pd.read_csv(\"Data/Listing/1.csv\", skiprows=2, header=None)\n",
    "data.__len__()"
   ]
  },
  {
   "cell_type": "code",
   "execution_count": null,
   "metadata": {},
   "outputs": [],
   "source": [
    "list_rows = []\n",
    "for i in range(0, len(data), 2):\n",
    "    temp = list(data.loc[i]) + list(data.loc[i+1])\n",
    "    list_rows.append(temp)\n",
    "\n",
    "temp_df = pd.DataFrame(list_rows, columns=headers)\n",
    "final_df = pd.DataFrame()\n",
    "seen = []\n",
    "for col in temp_df.columns:\n",
    "    if col not in seen:\n",
    "        seen.append(col)\n",
    "        try:\n",
    "            temp_df[col].shape[1]\n",
    "            tmp_col = temp_df[col].iloc[:, 0]\n",
    "        except:\n",
    "            tmp_col = temp_df[col]\n",
    "        \n",
    "        final_df = pd.concat([final_df, tmp_col], axis=1)\n",
    "\n",
    "final_df.shape"
   ]
  },
  {
   "cell_type": "code",
   "execution_count": null,
   "metadata": {},
   "outputs": [],
   "source": [
    "final_df.to_csv(\"Data/Listing/1.csv\", index=False)"
   ]
  },
  {
   "cell_type": "code",
   "execution_count": null,
   "metadata": {},
   "outputs": [],
   "source": []
  }
 ],
 "metadata": {
  "kernelspec": {
   "display_name": "Python 3",
   "language": "python",
   "name": "python3"
  },
  "language_info": {
   "codemirror_mode": {
    "name": "ipython",
    "version": 3
   },
   "file_extension": ".py",
   "mimetype": "text/x-python",
   "name": "python",
   "nbconvert_exporter": "python",
   "pygments_lexer": "ipython3",
   "version": "3.10.0"
  }
 },
 "nbformat": 4,
 "nbformat_minor": 2
}
