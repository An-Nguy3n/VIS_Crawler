{
 "cells": [
  {
   "cell_type": "code",
   "execution_count": null,
   "metadata": {},
   "outputs": [],
   "source": [
    "from browser import Browser\n",
    "import time\n",
    "import pandas as pd\n",
    "import os\n",
    "os.makedirs(\"Data/\", exist_ok=True)\n",
    "os.makedirs(\"Data/Listing\", exist_ok=True)"
   ]
  },
  {
   "cell_type": "code",
   "execution_count": null,
   "metadata": {},
   "outputs": [],
   "source": [
    "a = Browser(True)\n",
    "k = 0\n",
    "count_fail = 0\n",
    "while True:\n",
    "    if k == 0:\n",
    "        a.driver.get(\"https://www.jpx.co.jp/english/listing/stocks/new/index.html\")\n",
    "    else:\n",
    "        if k < 10:\n",
    "            text = \"0\" + str(k)\n",
    "        else:\n",
    "            text = str(k)\n",
    "        a.driver.get(f\"https://www.jpx.co.jp/english/listing/stocks/new/00-archives-{text}.html\")\n",
    "\n",
    "    a.scroll_to_bottom()\n",
    "    time.sleep(3)\n",
    "\n",
    "    try:\n",
    "        soup = a.get_soup()\n",
    "        table_div = soup.find(\"div\", {\"class\":\"component-normal-table\"})\n",
    "        list_table = table_div.find_all(\"table\")\n",
    "        for table in list_table:\n",
    "            temp = pd.read_html(str(table))[0]\n",
    "            try: data = pd.concat([data, temp], ignore_index=True)\n",
    "            except: data = temp.copy()\n",
    "        \n",
    "        if len(data) == 0:\n",
    "            raise\n",
    "        \n",
    "        data.to_csv(f\"Data/Listing/{k}.csv\", index=False)\n",
    "        k += 1\n",
    "        count_fail = 0\n",
    "        data = None\n",
    "        a.reset_browser()\n",
    "    except:\n",
    "        count_fail += 1\n",
    "        if count_fail == 5:\n",
    "            break\n",
    "        a.reset_browser()"
   ]
  }
 ],
 "metadata": {
  "kernelspec": {
   "display_name": "Python 3",
   "language": "python",
   "name": "python3"
  },
  "language_info": {
   "codemirror_mode": {
    "name": "ipython",
    "version": 3
   },
   "file_extension": ".py",
   "mimetype": "text/x-python",
   "name": "python",
   "nbconvert_exporter": "python",
   "pygments_lexer": "ipython3",
   "version": "3.10.0"
  }
 },
 "nbformat": 4,
 "nbformat_minor": 2
}
